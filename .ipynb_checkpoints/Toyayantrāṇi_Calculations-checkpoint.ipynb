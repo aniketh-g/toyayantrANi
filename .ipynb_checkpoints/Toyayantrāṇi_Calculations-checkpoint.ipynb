{
 "cells": [
  {
   "cell_type": "code",
   "execution_count": 3,
   "id": "3857776a",
   "metadata": {},
   "outputs": [],
   "source": [
    "#Units\n",
    "mm_2_aGgula = 1/17.65 #1mm equals 17.65 aṅgula-s\n",
    "hour_2_nADI = 24/60\n",
    "#Parameters\n",
    "#All quantities in aṅgula-s and nāḍī-s\n",
    "ghaTikAGgula = 1 #number of aṅgula-s fallen in 1 nāḍī\n",
    "r0 = 0.5*mm_2_aGgula #hole radius = 0.5 mm\n",
    "T = 60\n",
    "g = 9.80665 * 1000 * mm_2_aGgula / ((1/3600) * hour_2_nADI)**2\n",
    "v = 60*ghaTikAGgula/T\n",
    "#Equation of container curve\n",
    "def h(r):\n",
    "    return (v**2/2*g)*((r/r0)**4-1)"
   ]
  }
 ],
 "metadata": {
  "kernelspec": {
   "display_name": "Python 3",
   "language": "python",
   "name": "python3"
  },
  "language_info": {
   "codemirror_mode": {
    "name": "ipython",
    "version": 3
   },
   "file_extension": ".py",
   "mimetype": "text/x-python",
   "name": "python",
   "nbconvert_exporter": "python",
   "pygments_lexer": "ipython3",
   "version": "3.9.5"
  }
 },
 "nbformat": 4,
 "nbformat_minor": 5
}
